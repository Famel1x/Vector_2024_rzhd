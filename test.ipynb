{
 "cells": [
  {
   "cell_type": "code",
   "execution_count": 2,
   "metadata": {},
   "outputs": [
    {
     "name": "stdout",
     "output_type": "stream",
     "text": [
      "<Response [200]>\n",
      "Ответ от API: Вот простой код на Python, который выводит &quot;Привет, мир&quot;:\n",
      "print(&quot;Привет, мир&quot;)\n",
      "\n",
      "Вы можете запустить этот код в любой среде Python, и он напечатает сообщение на экран.\n",
      "\n"
     ]
    }
   ],
   "source": [
    "import requests\n",
    "\n",
    "# Задаем адрес API\n",
    "url = \"http://127.0.0.1:5500\"\n",
    "\n",
    "# Задаем параметры запроса\n",
    "params = {\n",
    "    \"text\": \"Напиши привет мир на питоне\"  # Замените на ваш вопрос\n",
    "}\n",
    "\n",
    "# Отправляем GET-запрос\n",
    "response = requests.get(url, params=params)\n",
    "\n",
    "print(response)\n",
    "# Проверяем статус код ответа\n",
    "if response.status_code == 200:\n",
    "    # Если запрос успешен, выводим ответ\n",
    "    print(\"Ответ от API:\", response.text)\n",
    "else:\n",
    "    # Если произошла ошибка, выводим статус код\n",
    "    print(\"Ошибка:\", response.status_code)"
   ]
  },
  {
   "cell_type": "code",
   "execution_count": null,
   "metadata": {},
   "outputs": [],
   "source": []
  }
 ],
 "metadata": {
  "kernelspec": {
   "display_name": ".venv",
   "language": "python",
   "name": "python3"
  },
  "language_info": {
   "codemirror_mode": {
    "name": "ipython",
    "version": 3
   },
   "file_extension": ".py",
   "mimetype": "text/x-python",
   "name": "python",
   "nbconvert_exporter": "python",
   "pygments_lexer": "ipython3",
   "version": "3.11.9"
  }
 },
 "nbformat": 4,
 "nbformat_minor": 2
}
