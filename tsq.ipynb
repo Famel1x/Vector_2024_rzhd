{
 "cells": [
  {
   "cell_type": "code",
   "execution_count": 6,
   "metadata": {},
   "outputs": [],
   "source": [
    "import pandas as pd\n",
    "import numpy as np,re\n",
    "from langchain.schema import HumanMessage, SystemMessage\n",
    "from langchain.chat_models.gigachat import GigaChat\n",
    "\n",
    "# Авторизация в сервисе GigaChat\n",
    "chat = GigaChat(credentials='MzU0M2RmZmMtZTZiYS00NDY2LWE1ODQtZTUzMTFhNTBjZmQ0OjcxYWE1NGY1LWUxZTctNDk1NC1hZGViLTkwOTIyODNiOWVhYw==', verify_ssl_certs=False)\n",
    "\n",
    "messages = [\n",
    "    SystemMessage(\n",
    "        content=\"Ты лучший аналитик в компании РЖД, необходмо проанализировать данные респондента и вывести вероятность того, уйдет ли респондент от компании и перестанет пользоваться их услугами. Ты даёшь свой ответ только в виде % ухода пользователя и обоснование поставленного процента\"\n",
    "    )\n",
    "]"
   ]
  },
  {
   "cell_type": "code",
   "execution_count": 75,
   "metadata": {},
   "outputs": [],
   "source": [
    "\n",
    "class ML_AGEENT:\n",
    "    def __init__(self) -> None:\n",
    "        self.dataframe_interesting = pd.read_excel(\"Интересы.xls\")\n",
    "        self.dataframe_waitings = pd.read_excel(\"Обращения.xls\")\n",
    "        self.dataframe_transporting = pd.read_excel(\"Сортированный_Объем Перевозок.xlsx\")\n",
    "        self.dataframe_Vladimyr = pd.read_excel(\"МС_Владимирская область.xls\")\n",
    "        self.dataframe_Kirov = pd.read_excel(\"МС_Кировская область.xls\")\n",
    "        self.dataframe_NNov = pd.read_excel(\"МС_Нижегородская область.xls\")\n",
    "        self.dataframe_MaryEl = pd.read_excel(\"МС_Республика Марий Эл.xls\")\n",
    "        self.dataframe_Mordoviya = pd.read_excel(\"МС_Республика Мордовия.xls\")\n",
    "        self.dataframe_Tatarstan = pd.read_excel(\"МС_Республика Татарстан.xls\")\n",
    "        self.dataframe_Ydmurt = pd.read_excel(\"МС_Республика Удмуртия.xls\")\n",
    "        self.dataframe_Chyvash = pd.read_excel(\"МС_Республика Чувашия.xls\")\n",
    "        self.oblast_list = [\n",
    "                            self.dataframe_Vladimyr, \n",
    "                            self.dataframe_Kirov, \n",
    "                            self.dataframe_NNov, \n",
    "                            self.dataframe_MaryEl, \n",
    "                            self.dataframe_Mordoviya, \n",
    "                            self.dataframe_Tatarstan,\n",
    "                            self.dataframe_Ydmurt,\n",
    "                            self.dataframe_Chyvash\n",
    "                            ]\n",
    "\n",
    "\n",
    "    def research(self, id:str) -> list:\n",
    "        \n",
    "        _, personal_data = self.research_oblasts(id)\n",
    "        _, personal_seasons = self.seasons(id)\n",
    "        _, personal_dop_info,sum = self.research_directions(id)\n",
    "        persnal_problems = self.research_obrash(id)\n",
    "        persnal_inters = self.research_interesting(id)\n",
    "        \n",
    "        prompt = f\"\"\"У нас есть информация о клиенте железнодорожной компании и ключевое значение для анализа:\n",
    "\n",
    "Значение {sum} - общая сумма платежей клиента компании за последние 9 месяцев. Важно отметить то, что:\n",
    "\n",
    "Если {sum} > 0, проанализируйте предоставленные данные и оцените вероятность ухода.\n",
    "Если {sum} == 0, вероятность ухода составляет 100%, и следует предоставить рекомендации для возврата клиента.\n",
    "\n",
    "Данные о клиенте:\n",
    "\n",
    "Информация о юридическом лице клиента, платежеспособности и рисках: {personal_data}\n",
    "Данные о грузоперевозках клиента за последние два года: {personal_seasons}\n",
    "Информация о взаимодействиях клиента с компанией, таких как обращения за консультированием, поддержка, жалобы, благодарности и т.д.: {persnal_inters}\n",
    "Данные о проблемах клиента, возникших ранее: {persnal_problems}\n",
    "Пожалуйста, на основе этих данных, если {sum} > 0, оцените вероятность ухода клиента и предоставьте рекомендации для удержания клиента, если вероятность ухода составляет более 45%. Если {sum} == 0, предложите действия для возвращения клиента с высокой вероятностью ухода (100%)\n",
    "\n",
    "Сами же данные нужно представить в виде: \n",
    "\n",
    "Вероятность ухода: <оценка вероятности ухода в процентах>\n",
    "Обоснование: <основной текст>\"\"\"\n",
    "        messages.append(HumanMessage(content=prompt))\n",
    "        res = chat(messages)\n",
    "        messages.append(res)\n",
    "        \n",
    "        pattern = r\"Вероятность ухода:\\s*(\\d+%)\\nОбоснование:\\s*(.*)\"\n",
    "        \n",
    "        match = re.search(pattern, res.content, re.DOTALL)\n",
    "\n",
    "        if match:\n",
    "            # Извлечение данных из групп регулярного выражения\n",
    "            churn_probability = match.group(1)  # Вероятность ухода\n",
    "            justification = match.group(2)  # Обоснование\n",
    "            \n",
    "            # Формируем структурированный ответ\n",
    "            structured_data = {\n",
    "                \"churn_probability\": churn_probability,\n",
    "                \"justification\": justification\n",
    "            }\n",
    "            \n",
    "            return structured_data\n",
    "        \n",
    "        ...\n",
    "    \n",
    "    def research_oblasts(self, id:str) -> str:\n",
    "        for i in self.oblast_list:\n",
    "            filtred = i[i[\"ID\"] == id][[\"ID\",\n",
    "                                        \"Размер компании.Наименование\", \n",
    "                                        \"Карточка клиента (внешний источник).Индекс платежной дисциплины Описание\", \n",
    "                                        \"Карточка клиента (внешний источник).Индекс финансового риска Описание\", \n",
    "                                        \"Госконтракты.Тип контракта\"]]\n",
    "            if len(filtred.values.tolist()) >=1:\n",
    "                break\n",
    "            else:\n",
    "                pass\n",
    "        \n",
    "        all_data = filtred.values.T.tolist()\n",
    "        # print(all_data[0], all_data[1])\n",
    "        all_data = [list(set(sublist)) for sublist in all_data]\n",
    "        # print(all_data[0], all_data[1])\n",
    "        \n",
    "        final = \"Этот клиент - \" +   str(all_data[1]) + \" C \" + str(all_data[2]) + \" С индексом финального риска: \" + str(all_data[3]) + \" И в гос контрактах он является: \" + str(all_data[4])\n",
    "        # print(final)\n",
    "        return filtred, final\n",
    "    \n",
    "    def seasons(self, id:str) ->  str:\n",
    "        \n",
    "        filtred = self.dataframe_transporting[self.dataframe_transporting[\"ID\"] == id]\n",
    "        years = filtred.columns.values.tolist()[5:]\n",
    "        month = filtred[years].values.T.tolist()\n",
    "        month_normal = years[0::2]\n",
    "        month_in_numbers =  [[sum(subarray)] for subarray in month]\n",
    "        month_in_tons = month_in_numbers[1::2]\n",
    "        month_in_money = month_in_numbers[0::2]\n",
    "        text = \"\"\n",
    "        for i in range(len(month_normal)):\n",
    "            text += f\"Клиент в год, месяц - {month_normal[i]} перевёз {month_in_tons[i]} тон груза  на сумму: {month_in_money[i]}\\n\"\n",
    "            \n",
    "        # print(text)\n",
    "        \n",
    "        return filtred, text\n",
    "\n",
    "    def research_directions(self, id:str):\n",
    "        \n",
    "        filtred=self.dataframe_transporting[self.dataframe_transporting['ID']==id]\n",
    "        all_data = filtred.values.T.tolist()\n",
    "        \n",
    "        text=\"\"\n",
    "        sum=0\n",
    "        \n",
    "        for i in range(len(all_data[3])):\n",
    "\n",
    "            text+=\"| Этот клиент везет из - \" + all_data[1][i] + \" в - \" + all_data[2][i] + \"| Код товара - \" + str(all_data[3][i])+\"| Категория груза - \"+all_data[4][i]+\"|\\n\"\n",
    "            \n",
    "        # print (text)\n",
    "        \n",
    "        years = filtred.columns.values.tolist()[5:]\n",
    "        month = filtred[years].values.T.tolist()\n",
    "        \n",
    "        \n",
    "        for i in month[-8::2]:\n",
    "            \n",
    "            for j in i:\n",
    "                \n",
    "                sum+=j\n",
    "        \n",
    "        return all_data, text,sum\n",
    "\n",
    "    def research_interesting(self, id:str) -> str:\n",
    "        filtred = self.dataframe_interesting[self.dataframe_interesting[\"ID\"] == id][[\"Состояние\", \"Канал первичного интереса\"]]\n",
    "\n",
    "        all_data = filtred.values.T.tolist()\n",
    "        all_data = [list(set(sublist)) for sublist in all_data]\n",
    "\n",
    "        string = \"\"\n",
    "        ls = []\n",
    "\n",
    "        for i in filtred.values:\n",
    "            string += str(i[0]) + \" \" + str(i[1]) + \", \"\n",
    "\n",
    "        for i in all_data[0]:\n",
    "            for j in all_data[1]:\n",
    "                if string.count(f\"{i} {j}\") != 0:\n",
    "                    ls.append([str(i) + \" \" + str(j), string.count(f\"{i} {j}\")])\n",
    "\n",
    "        for i in ls:\n",
    "            string += i[0] + \" \" + str(i[1]) + \"\\n\"\n",
    "\n",
    "        return string\n",
    "    \n",
    "\n",
    "    def research_obrash(self, id:str) -> str:\n",
    "        filtred = self.dataframe_waitings[self.dataframe_waitings[\"ID\"] == id][[\"Тема вопроса\"]]\n",
    "\n",
    "        all_data = filtred.values.T.tolist()\n",
    "        try:\n",
    "            \n",
    "            string = \"\"\n",
    "            for i in all_data:\n",
    "                string += i[0] + \"\\n\"\n",
    "\n",
    "            print(string)\n",
    "        except:\n",
    "            string = \"Обращений не обнаружено\"\n",
    "        \n",
    "        return string\n",
    " \n",
    "    def graps_transp(self, id:str) -> list:\n",
    "        filtred = self.dataframe_transporting[self.dataframe_transporting[\"ID\"] == id]\n",
    "        years = filtred.columns.values.tolist()[5:][0::2]\n",
    "        types = list(set(filtred[\"Гр груза по опер.номен\"]))\n",
    "        tat = []\n",
    "        for i in types:\n",
    "            temp = filtred[filtred[\"Гр груза по опер.номен\"] == i]\n",
    "            data = temp[years].values.T.tolist()\n",
    "            tat.append([[sum(subarray)] for subarray in data])\n",
    "            \n",
    "            \n",
    "            \n",
    "        return tat, years, types\n",
    "        \n",
    "        \n",
    "    "
   ]
  },
  {
   "cell_type": "code",
   "execution_count": 76,
   "metadata": {},
   "outputs": [],
   "source": [
    "agent = ML_AGEENT()"
   ]
  },
  {
   "cell_type": "code",
   "execution_count": 78,
   "metadata": {},
   "outputs": [],
   "source": [
    "tat, years, types = agent.graps_transp(912)\n"
   ]
  },
  {
   "cell_type": "code",
   "execution_count": 116,
   "metadata": {},
   "outputs": [
    {
     "data": {
      "text/plain": [
       "[0,\n",
       " 0,\n",
       " 0,\n",
       " 0,\n",
       " 0,\n",
       " 0,\n",
       " 0,\n",
       " 0,\n",
       " 0,\n",
       " 0,\n",
       " 0,\n",
       " 0,\n",
       " 0,\n",
       " 0,\n",
       " 0,\n",
       " 0,\n",
       " 0,\n",
       " 26792,\n",
       " 26792,\n",
       " 187544,\n",
       " 53584,\n",
       " 53673,\n",
       " 112223,\n",
       " 0,\n",
       " 0,\n",
       " 70540,\n",
       " 35270,\n",
       " 153300,\n",
       " 192478,\n",
       " 148244,\n",
       " 157208,\n",
       " 157208]"
      ]
     },
     "execution_count": 116,
     "metadata": {},
     "output_type": "execute_result"
    }
   ],
   "source": [
    "pipa = []\n",
    "for i in range(len(tat)):\n",
    "    tata = []\n",
    "    for k in range(len(tat[i])):\n",
    "        tata.append(tat[i][k][0])\n",
    "    pipa.append(tata)   \n",
    "pipa[1]"
   ]
  },
  {
   "cell_type": "code",
   "execution_count": 117,
   "metadata": {},
   "outputs": [
    {
     "data": {
      "application/vnd.plotly.v1+json": {
       "config": {
        "plotlyServerURL": "https://plot.ly"
       },
       "data": [
        {
         "name": "МЕТАЛЛИЧЕСКИЕ КОНСТРУКЦИИ",
         "type": "bar",
         "x": [
          "2022/01",
          "2022/02",
          "2022/03",
          "2022/04",
          "2022/05",
          "2022/06",
          "2022/07",
          "2022/08",
          "2022/09",
          "2022/10",
          "2022/11",
          "2022/12",
          "2023/01",
          "2023/02",
          "2023/03",
          "2023/04",
          "2023/05",
          "2023/06",
          "2023/07",
          "2023/08",
          "2023/09",
          "2023/10",
          "2023/11",
          "2023/12",
          "2024/01",
          "2024/02",
          "2024/03",
          "2024/04",
          "2024/05",
          "2024/06",
          "2024/07",
          "2024/08"
         ],
         "y": [
          1510226,
          883672,
          884171,
          1898867,
          1725907,
          1404620,
          1396958,
          933,
          1682378,
          1812284,
          1255897,
          1817422,
          770523,
          1544400,
          1549468,
          1855849,
          2006949,
          1547060,
          1855861,
          2159858,
          1853465,
          2005751,
          1075095,
          2225920,
          1196653,
          1195952,
          1889947,
          1369299,
          1537948,
          1713284,
          2039039,
          1709265
         ]
        },
        {
         "name": "ПРОМ.СЫРЬЕ И ФОРМ. МАТ-ЛЫ",
         "type": "bar",
         "x": [
          "2022/01",
          "2022/02",
          "2022/03",
          "2022/04",
          "2022/05",
          "2022/06",
          "2022/07",
          "2022/08",
          "2022/09",
          "2022/10",
          "2022/11",
          "2022/12",
          "2023/01",
          "2023/02",
          "2023/03",
          "2023/04",
          "2023/05",
          "2023/06",
          "2023/07",
          "2023/08",
          "2023/09",
          "2023/10",
          "2023/11",
          "2023/12",
          "2024/01",
          "2024/02",
          "2024/03",
          "2024/04",
          "2024/05",
          "2024/06",
          "2024/07",
          "2024/08"
         ],
         "y": [
          0,
          0,
          0,
          0,
          0,
          0,
          0,
          0,
          0,
          0,
          0,
          0,
          0,
          0,
          0,
          0,
          0,
          26792,
          26792,
          187544,
          53584,
          53673,
          112223,
          0,
          0,
          70540,
          35270,
          153300,
          192478,
          148244,
          157208,
          157208
         ]
        },
        {
         "name": "ОСТАЛЬНЫЕ И СБОРНЫЕ ГРУЗЫ",
         "type": "bar",
         "x": [
          "2022/01",
          "2022/02",
          "2022/03",
          "2022/04",
          "2022/05",
          "2022/06",
          "2022/07",
          "2022/08",
          "2022/09",
          "2022/10",
          "2022/11",
          "2022/12",
          "2023/01",
          "2023/02",
          "2023/03",
          "2023/04",
          "2023/05",
          "2023/06",
          "2023/07",
          "2023/08",
          "2023/09",
          "2023/10",
          "2023/11",
          "2023/12",
          "2024/01",
          "2024/02",
          "2024/03",
          "2024/04",
          "2024/05",
          "2024/06",
          "2024/07",
          "2024/08"
         ],
         "y": [
          0,
          0,
          0,
          0,
          0,
          57033,
          0,
          0,
          0,
          0,
          0,
          0,
          0,
          0,
          0,
          0,
          0,
          62498,
          0,
          0,
          0,
          0,
          0,
          0,
          0,
          0,
          0,
          0,
          0,
          0,
          0,
          0
         ]
        },
        {
         "name": "МЕТИЗЫ",
         "type": "bar",
         "x": [
          "2022/01",
          "2022/02",
          "2022/03",
          "2022/04",
          "2022/05",
          "2022/06",
          "2022/07",
          "2022/08",
          "2022/09",
          "2022/10",
          "2022/11",
          "2022/12",
          "2023/01",
          "2023/02",
          "2023/03",
          "2023/04",
          "2023/05",
          "2023/06",
          "2023/07",
          "2023/08",
          "2023/09",
          "2023/10",
          "2023/11",
          "2023/12",
          "2024/01",
          "2024/02",
          "2024/03",
          "2024/04",
          "2024/05",
          "2024/06",
          "2024/07",
          "2024/08"
         ],
         "y": [
          0,
          0,
          0,
          83002,
          83002,
          0,
          0,
          10,
          92132,
          92132,
          0,
          0,
          0,
          0,
          0,
          0,
          0,
          0,
          0,
          0,
          0,
          0,
          0,
          0,
          0,
          0,
          0,
          0,
          112335,
          0,
          0,
          0
         ]
        },
        {
         "name": "ЧЕРНЫЕ МЕТАЛЛЫ",
         "type": "bar",
         "x": [
          "2022/01",
          "2022/02",
          "2022/03",
          "2022/04",
          "2022/05",
          "2022/06",
          "2022/07",
          "2022/08",
          "2022/09",
          "2022/10",
          "2022/11",
          "2022/12",
          "2023/01",
          "2023/02",
          "2023/03",
          "2023/04",
          "2023/05",
          "2023/06",
          "2023/07",
          "2023/08",
          "2023/09",
          "2023/10",
          "2023/11",
          "2023/12",
          "2024/01",
          "2024/02",
          "2024/03",
          "2024/04",
          "2024/05",
          "2024/06",
          "2024/07",
          "2024/08"
         ],
         "y": [
          8900033,
          6043071,
          11956612,
          11568901,
          14455632,
          10370103,
          13680974,
          5826,
          11589010,
          8124114,
          6992963,
          9987298,
          20120562,
          17796314,
          18823742,
          18634437,
          14606245,
          9261999,
          13166230,
          14450811,
          11791824,
          9517606,
          15350181,
          13434791,
          16751120,
          11220176,
          14554941,
          16021857,
          20505546,
          16871265,
          16261367,
          15916174
         ]
        }
       ],
       "layout": {
        "barmode": "group",
        "template": {
         "data": {
          "bar": [
           {
            "error_x": {
             "color": "#2a3f5f"
            },
            "error_y": {
             "color": "#2a3f5f"
            },
            "marker": {
             "line": {
              "color": "#E5ECF6",
              "width": 0.5
             },
             "pattern": {
              "fillmode": "overlay",
              "size": 10,
              "solidity": 0.2
             }
            },
            "type": "bar"
           }
          ],
          "barpolar": [
           {
            "marker": {
             "line": {
              "color": "#E5ECF6",
              "width": 0.5
             },
             "pattern": {
              "fillmode": "overlay",
              "size": 10,
              "solidity": 0.2
             }
            },
            "type": "barpolar"
           }
          ],
          "carpet": [
           {
            "aaxis": {
             "endlinecolor": "#2a3f5f",
             "gridcolor": "white",
             "linecolor": "white",
             "minorgridcolor": "white",
             "startlinecolor": "#2a3f5f"
            },
            "baxis": {
             "endlinecolor": "#2a3f5f",
             "gridcolor": "white",
             "linecolor": "white",
             "minorgridcolor": "white",
             "startlinecolor": "#2a3f5f"
            },
            "type": "carpet"
           }
          ],
          "choropleth": [
           {
            "colorbar": {
             "outlinewidth": 0,
             "ticks": ""
            },
            "type": "choropleth"
           }
          ],
          "contour": [
           {
            "colorbar": {
             "outlinewidth": 0,
             "ticks": ""
            },
            "colorscale": [
             [
              0,
              "#0d0887"
             ],
             [
              0.1111111111111111,
              "#46039f"
             ],
             [
              0.2222222222222222,
              "#7201a8"
             ],
             [
              0.3333333333333333,
              "#9c179e"
             ],
             [
              0.4444444444444444,
              "#bd3786"
             ],
             [
              0.5555555555555556,
              "#d8576b"
             ],
             [
              0.6666666666666666,
              "#ed7953"
             ],
             [
              0.7777777777777778,
              "#fb9f3a"
             ],
             [
              0.8888888888888888,
              "#fdca26"
             ],
             [
              1,
              "#f0f921"
             ]
            ],
            "type": "contour"
           }
          ],
          "contourcarpet": [
           {
            "colorbar": {
             "outlinewidth": 0,
             "ticks": ""
            },
            "type": "contourcarpet"
           }
          ],
          "heatmap": [
           {
            "colorbar": {
             "outlinewidth": 0,
             "ticks": ""
            },
            "colorscale": [
             [
              0,
              "#0d0887"
             ],
             [
              0.1111111111111111,
              "#46039f"
             ],
             [
              0.2222222222222222,
              "#7201a8"
             ],
             [
              0.3333333333333333,
              "#9c179e"
             ],
             [
              0.4444444444444444,
              "#bd3786"
             ],
             [
              0.5555555555555556,
              "#d8576b"
             ],
             [
              0.6666666666666666,
              "#ed7953"
             ],
             [
              0.7777777777777778,
              "#fb9f3a"
             ],
             [
              0.8888888888888888,
              "#fdca26"
             ],
             [
              1,
              "#f0f921"
             ]
            ],
            "type": "heatmap"
           }
          ],
          "heatmapgl": [
           {
            "colorbar": {
             "outlinewidth": 0,
             "ticks": ""
            },
            "colorscale": [
             [
              0,
              "#0d0887"
             ],
             [
              0.1111111111111111,
              "#46039f"
             ],
             [
              0.2222222222222222,
              "#7201a8"
             ],
             [
              0.3333333333333333,
              "#9c179e"
             ],
             [
              0.4444444444444444,
              "#bd3786"
             ],
             [
              0.5555555555555556,
              "#d8576b"
             ],
             [
              0.6666666666666666,
              "#ed7953"
             ],
             [
              0.7777777777777778,
              "#fb9f3a"
             ],
             [
              0.8888888888888888,
              "#fdca26"
             ],
             [
              1,
              "#f0f921"
             ]
            ],
            "type": "heatmapgl"
           }
          ],
          "histogram": [
           {
            "marker": {
             "pattern": {
              "fillmode": "overlay",
              "size": 10,
              "solidity": 0.2
             }
            },
            "type": "histogram"
           }
          ],
          "histogram2d": [
           {
            "colorbar": {
             "outlinewidth": 0,
             "ticks": ""
            },
            "colorscale": [
             [
              0,
              "#0d0887"
             ],
             [
              0.1111111111111111,
              "#46039f"
             ],
             [
              0.2222222222222222,
              "#7201a8"
             ],
             [
              0.3333333333333333,
              "#9c179e"
             ],
             [
              0.4444444444444444,
              "#bd3786"
             ],
             [
              0.5555555555555556,
              "#d8576b"
             ],
             [
              0.6666666666666666,
              "#ed7953"
             ],
             [
              0.7777777777777778,
              "#fb9f3a"
             ],
             [
              0.8888888888888888,
              "#fdca26"
             ],
             [
              1,
              "#f0f921"
             ]
            ],
            "type": "histogram2d"
           }
          ],
          "histogram2dcontour": [
           {
            "colorbar": {
             "outlinewidth": 0,
             "ticks": ""
            },
            "colorscale": [
             [
              0,
              "#0d0887"
             ],
             [
              0.1111111111111111,
              "#46039f"
             ],
             [
              0.2222222222222222,
              "#7201a8"
             ],
             [
              0.3333333333333333,
              "#9c179e"
             ],
             [
              0.4444444444444444,
              "#bd3786"
             ],
             [
              0.5555555555555556,
              "#d8576b"
             ],
             [
              0.6666666666666666,
              "#ed7953"
             ],
             [
              0.7777777777777778,
              "#fb9f3a"
             ],
             [
              0.8888888888888888,
              "#fdca26"
             ],
             [
              1,
              "#f0f921"
             ]
            ],
            "type": "histogram2dcontour"
           }
          ],
          "mesh3d": [
           {
            "colorbar": {
             "outlinewidth": 0,
             "ticks": ""
            },
            "type": "mesh3d"
           }
          ],
          "parcoords": [
           {
            "line": {
             "colorbar": {
              "outlinewidth": 0,
              "ticks": ""
             }
            },
            "type": "parcoords"
           }
          ],
          "pie": [
           {
            "automargin": true,
            "type": "pie"
           }
          ],
          "scatter": [
           {
            "fillpattern": {
             "fillmode": "overlay",
             "size": 10,
             "solidity": 0.2
            },
            "type": "scatter"
           }
          ],
          "scatter3d": [
           {
            "line": {
             "colorbar": {
              "outlinewidth": 0,
              "ticks": ""
             }
            },
            "marker": {
             "colorbar": {
              "outlinewidth": 0,
              "ticks": ""
             }
            },
            "type": "scatter3d"
           }
          ],
          "scattercarpet": [
           {
            "marker": {
             "colorbar": {
              "outlinewidth": 0,
              "ticks": ""
             }
            },
            "type": "scattercarpet"
           }
          ],
          "scattergeo": [
           {
            "marker": {
             "colorbar": {
              "outlinewidth": 0,
              "ticks": ""
             }
            },
            "type": "scattergeo"
           }
          ],
          "scattergl": [
           {
            "marker": {
             "colorbar": {
              "outlinewidth": 0,
              "ticks": ""
             }
            },
            "type": "scattergl"
           }
          ],
          "scattermapbox": [
           {
            "marker": {
             "colorbar": {
              "outlinewidth": 0,
              "ticks": ""
             }
            },
            "type": "scattermapbox"
           }
          ],
          "scatterpolar": [
           {
            "marker": {
             "colorbar": {
              "outlinewidth": 0,
              "ticks": ""
             }
            },
            "type": "scatterpolar"
           }
          ],
          "scatterpolargl": [
           {
            "marker": {
             "colorbar": {
              "outlinewidth": 0,
              "ticks": ""
             }
            },
            "type": "scatterpolargl"
           }
          ],
          "scatterternary": [
           {
            "marker": {
             "colorbar": {
              "outlinewidth": 0,
              "ticks": ""
             }
            },
            "type": "scatterternary"
           }
          ],
          "surface": [
           {
            "colorbar": {
             "outlinewidth": 0,
             "ticks": ""
            },
            "colorscale": [
             [
              0,
              "#0d0887"
             ],
             [
              0.1111111111111111,
              "#46039f"
             ],
             [
              0.2222222222222222,
              "#7201a8"
             ],
             [
              0.3333333333333333,
              "#9c179e"
             ],
             [
              0.4444444444444444,
              "#bd3786"
             ],
             [
              0.5555555555555556,
              "#d8576b"
             ],
             [
              0.6666666666666666,
              "#ed7953"
             ],
             [
              0.7777777777777778,
              "#fb9f3a"
             ],
             [
              0.8888888888888888,
              "#fdca26"
             ],
             [
              1,
              "#f0f921"
             ]
            ],
            "type": "surface"
           }
          ],
          "table": [
           {
            "cells": {
             "fill": {
              "color": "#EBF0F8"
             },
             "line": {
              "color": "white"
             }
            },
            "header": {
             "fill": {
              "color": "#C8D4E3"
             },
             "line": {
              "color": "white"
             }
            },
            "type": "table"
           }
          ]
         },
         "layout": {
          "annotationdefaults": {
           "arrowcolor": "#2a3f5f",
           "arrowhead": 0,
           "arrowwidth": 1
          },
          "autotypenumbers": "strict",
          "coloraxis": {
           "colorbar": {
            "outlinewidth": 0,
            "ticks": ""
           }
          },
          "colorscale": {
           "diverging": [
            [
             0,
             "#8e0152"
            ],
            [
             0.1,
             "#c51b7d"
            ],
            [
             0.2,
             "#de77ae"
            ],
            [
             0.3,
             "#f1b6da"
            ],
            [
             0.4,
             "#fde0ef"
            ],
            [
             0.5,
             "#f7f7f7"
            ],
            [
             0.6,
             "#e6f5d0"
            ],
            [
             0.7,
             "#b8e186"
            ],
            [
             0.8,
             "#7fbc41"
            ],
            [
             0.9,
             "#4d9221"
            ],
            [
             1,
             "#276419"
            ]
           ],
           "sequential": [
            [
             0,
             "#0d0887"
            ],
            [
             0.1111111111111111,
             "#46039f"
            ],
            [
             0.2222222222222222,
             "#7201a8"
            ],
            [
             0.3333333333333333,
             "#9c179e"
            ],
            [
             0.4444444444444444,
             "#bd3786"
            ],
            [
             0.5555555555555556,
             "#d8576b"
            ],
            [
             0.6666666666666666,
             "#ed7953"
            ],
            [
             0.7777777777777778,
             "#fb9f3a"
            ],
            [
             0.8888888888888888,
             "#fdca26"
            ],
            [
             1,
             "#f0f921"
            ]
           ],
           "sequentialminus": [
            [
             0,
             "#0d0887"
            ],
            [
             0.1111111111111111,
             "#46039f"
            ],
            [
             0.2222222222222222,
             "#7201a8"
            ],
            [
             0.3333333333333333,
             "#9c179e"
            ],
            [
             0.4444444444444444,
             "#bd3786"
            ],
            [
             0.5555555555555556,
             "#d8576b"
            ],
            [
             0.6666666666666666,
             "#ed7953"
            ],
            [
             0.7777777777777778,
             "#fb9f3a"
            ],
            [
             0.8888888888888888,
             "#fdca26"
            ],
            [
             1,
             "#f0f921"
            ]
           ]
          },
          "colorway": [
           "#636efa",
           "#EF553B",
           "#00cc96",
           "#ab63fa",
           "#FFA15A",
           "#19d3f3",
           "#FF6692",
           "#B6E880",
           "#FF97FF",
           "#FECB52"
          ],
          "font": {
           "color": "#2a3f5f"
          },
          "geo": {
           "bgcolor": "white",
           "lakecolor": "white",
           "landcolor": "#E5ECF6",
           "showlakes": true,
           "showland": true,
           "subunitcolor": "white"
          },
          "hoverlabel": {
           "align": "left"
          },
          "hovermode": "closest",
          "mapbox": {
           "style": "light"
          },
          "paper_bgcolor": "white",
          "plot_bgcolor": "#E5ECF6",
          "polar": {
           "angularaxis": {
            "gridcolor": "white",
            "linecolor": "white",
            "ticks": ""
           },
           "bgcolor": "#E5ECF6",
           "radialaxis": {
            "gridcolor": "white",
            "linecolor": "white",
            "ticks": ""
           }
          },
          "scene": {
           "xaxis": {
            "backgroundcolor": "#E5ECF6",
            "gridcolor": "white",
            "gridwidth": 2,
            "linecolor": "white",
            "showbackground": true,
            "ticks": "",
            "zerolinecolor": "white"
           },
           "yaxis": {
            "backgroundcolor": "#E5ECF6",
            "gridcolor": "white",
            "gridwidth": 2,
            "linecolor": "white",
            "showbackground": true,
            "ticks": "",
            "zerolinecolor": "white"
           },
           "zaxis": {
            "backgroundcolor": "#E5ECF6",
            "gridcolor": "white",
            "gridwidth": 2,
            "linecolor": "white",
            "showbackground": true,
            "ticks": "",
            "zerolinecolor": "white"
           }
          },
          "shapedefaults": {
           "line": {
            "color": "#2a3f5f"
           }
          },
          "ternary": {
           "aaxis": {
            "gridcolor": "white",
            "linecolor": "white",
            "ticks": ""
           },
           "baxis": {
            "gridcolor": "white",
            "linecolor": "white",
            "ticks": ""
           },
           "bgcolor": "#E5ECF6",
           "caxis": {
            "gridcolor": "white",
            "linecolor": "white",
            "ticks": ""
           }
          },
          "title": {
           "x": 0.05
          },
          "xaxis": {
           "automargin": true,
           "gridcolor": "white",
           "linecolor": "white",
           "ticks": "",
           "title": {
            "standoff": 15
           },
           "zerolinecolor": "white",
           "zerolinewidth": 2
          },
          "yaxis": {
           "automargin": true,
           "gridcolor": "white",
           "linecolor": "white",
           "ticks": "",
           "title": {
            "standoff": 15
           },
           "zerolinecolor": "white",
           "zerolinewidth": 2
          }
         }
        }
       }
      }
     },
     "metadata": {},
     "output_type": "display_data"
    }
   ],
   "source": [
    "import plotly.graph_objects as go\n",
    "animals=years\n",
    "\n",
    "fig = go.Figure()\n",
    "for i in range(len(types)):\n",
    "    fig.add_trace(go.Bar(name=types[i], x=years, y=pipa[i]),)\n",
    "fig.update_layout(barmode='group')\n",
    "fig.show()\n"
   ]
  },
  {
   "cell_type": "code",
   "execution_count": null,
   "metadata": {},
   "outputs": [],
   "source": []
  }
 ],
 "metadata": {
  "kernelspec": {
   "display_name": ".venv",
   "language": "python",
   "name": "python3"
  },
  "language_info": {
   "codemirror_mode": {
    "name": "ipython",
    "version": 3
   },
   "file_extension": ".py",
   "mimetype": "text/x-python",
   "name": "python",
   "nbconvert_exporter": "python",
   "pygments_lexer": "ipython3",
   "version": "3.11.9"
  }
 },
 "nbformat": 4,
 "nbformat_minor": 2
}
