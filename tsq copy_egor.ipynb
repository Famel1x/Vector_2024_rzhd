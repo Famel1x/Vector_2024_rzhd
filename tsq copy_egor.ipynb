{
 "cells": [
  {
   "cell_type": "code",
   "execution_count": 117,
   "metadata": {},
   "outputs": [],
   "source": [
    "import pandas as pd\n",
    "import numpy as np\n",
    "from langchain.schema import HumanMessage, SystemMessage\n",
    "from langchain.chat_models.gigachat import GigaChat\n",
    "\n",
    "# Авторизация в сервисе GigaChat\n",
    "chat = GigaChat(credentials='ODYzNzU0NWQtMDc2MC00NDljLTk2YzQtNzhhZjEzY2IwYmY0Ojk4YmM1OGJkLTZlMGItNGFmNi1hNGZlLTU5ZWUxNGJiNGQzNA==', verify_ssl_certs=False, temperature=0.7)\n",
    "\n",
    "messages = [\n",
    "    SystemMessage(\n",
    "        content=\"Ты аналитик в компании РЖД, необходмо проанализировать данные респондента. Ты даёшь свой ответ только в виде % ухода пользователя и обоснование\"\n",
    "    )\n",
    "]"
   ]
  },
  {
   "cell_type": "code",
   "execution_count": 118,
   "metadata": {},
   "outputs": [],
   "source": [
    "def parse_xls(filename: str):\n",
    "    file = pd.read_excel(filename)\n",
    "    rows = file.loc\n",
    "    lst = []\n",
    "    for row in file.itertuples(index=False):\n",
    "        rw = []\n",
    "        for r in row:\n",
    "            rw.append(r)\n",
    "        lst.append(rw)\n",
    "    return lst"
   ]
  },
  {
   "cell_type": "code",
   "execution_count": 119,
   "metadata": {},
   "outputs": [],
   "source": [
    "waitings = parse_xls(\"Интересы.xls\")\n",
    "zayavki = parse_xls(\"Обращения.xls\")\n",
    "obama = parse_xls(\"Объёмы перевозок.xls\")\n",
    "all_data = [waitings, zayavki, obama]"
   ]
  },
  {
   "cell_type": "code",
   "execution_count": 120,
   "metadata": {},
   "outputs": [
    {
     "name": "stdout",
     "output_type": "stream",
     "text": [
      "['01.09.2023 13:19', 'Холодный звонок', '1.Продажа  ЦФТО', 'Завершен неудачно', 12200, 'ЦПУ МУРОМ', nan, nan, nan, nan, '10. Холодный звонок', '0001-233528', 'Интерес \"Холодный звонок\" от 01.09.2023']\n",
      "['16.03.2023 09:03', 'Холодный звонок', '1.Продажа  ЦФТО', 'Завершен неудачно', 12200, 'ЦПУ МУРОМ', nan, nan, nan, nan, '10. Холодный звонок', '0001-057104', 'Интерес \"Холодный звонок\" от 16.03.2023']\n",
      "['22.04.2022 14:24', 'Привлечение клиента', '1.Продажа  ЦФТО', 'Завершен неудачно', 12200, 'ЦПУ МУРОМ', nan, nan, nan, nan, '10. Холодный звонок', '0000-041922', 'Интерес \"Привлечение клиента\" от 22.04.2022']\n",
      "['26.03.2024 09:10', 'Холодный звонок', '1.Продажа  ЦФТО', 'Завершен неудачно', 12200, 'ЦПУ МУРОМ', nan, nan, '04.10.2024 10:00:00', 'Повторный звонок', '10. Холодный звонок', '0001-079512', 'Интерес \"Холодный звонок\" от 26.03.2024']\n"
     ]
    }
   ],
   "source": [
    "id = int(input(\"Введите ID:\"))\n",
    "for i in all_data:\n",
    "    for k in i:\n",
    "        for z in k:\n",
    "            if z == id:\n",
    "                print(k)\n",
    "                break\n"
   ]
  },
  {
   "cell_type": "code",
   "execution_count": 121,
   "metadata": {},
   "outputs": [],
   "source": [
    "# Вводим ID Получаем  -> list [\"ID\", \"%\", \"Вывод\", \"Рекомендации\"]\n",
    "\n",
    "class ML_AGEENT:\n",
    "    def __init__(self) -> None:\n",
    "        self.dataframe_interesting = pd.read_excel(\"Интересы.xls\")\n",
    "        self.dataframe_waitings = pd.read_excel(\"Обращения.xls\")\n",
    "        self.dataframe_transporting = pd.read_excel(\"Сортированный_Объем Перевозок.xlsx\")\n",
    "        self.dataframe_Vladimyr = pd.read_excel(\"МС_Владимирская область.xls\")\n",
    "        self.dataframe_Kirov = pd.read_excel(\"МС_Кировская область.xls\")\n",
    "        self.dataframe_NNov = pd.read_excel(\"МС_Нижегородская область.xls\")\n",
    "        self.dataframe_MaryEl = pd.read_excel(\"МС_Республика Марий Эл.xls\")\n",
    "        self.dataframe_Mordoviya = pd.read_excel(\"МС_Республика Мордовия.xls\")\n",
    "        self.dataframe_Tatarstan = pd.read_excel(\"МС_Республика Татарстан.xls\")\n",
    "        self.dataframe_Ydmurt = pd.read_excel(\"МС_Республика Удмуртия.xls\")\n",
    "        self.dataframe_Chyvash = pd.read_excel(\"МС_Республика Чувашия.xls\")\n",
    "        self.oblast_list = [\n",
    "                            self.dataframe_Vladimyr, \n",
    "                            self.dataframe_Kirov, \n",
    "                            self.dataframe_NNov, \n",
    "                            self.dataframe_MaryEl, \n",
    "                            self.dataframe_Mordoviya, \n",
    "                            self.dataframe_Tatarstan,\n",
    "                            self.dataframe_Ydmurt,\n",
    "                            self.dataframe_Chyvash\n",
    "                            ]\n",
    "\n",
    "\n",
    "    def research(self, id:str) -> list:\n",
    "        \n",
    "        _, personal_data = self.research_oblasts(id)\n",
    "        _, personal_seasons = self.seasons(id)\n",
    "        _, personal_dop_info, sum = self.research_directions(id)\n",
    "        persnal_problems = self.research_obrash(id)\n",
    "        persnal_inters = self.research_interesting(id)\n",
    "        \n",
    "        prompt = f\"\"\"У меня есть информация о клиенте железнодорожной компании, включая ключевое число:\n",
    "\n",
    "У нас есть число: {sum}. Если данное число равно '0', мы выставляем данному клиенту 100% вероятность ухода. В этом случае необходимо предоставить способы возвращения данного клиента.\n",
    "Данные клиента, связанные с размером его юридического лица, платежеспособностью и общими рисками данного бизнеса: {personal_data}.\n",
    "Данные о его грузоперевозках за последние два года: {personal_seasons}.\n",
    "Данные, которые связаны с общими способами взаимодействия компании с клиентом (обращения на консультирование, поддержку, жалобы, благодарности и т.д.): {persnal_inters}.\n",
    "Данные, содержащие записи об возникших проблемах клиента: {persnal_problems}.\n",
    "На основе предоставленных данных, пожалуйста, проанализируйте вероятность ухода клиента и предложите рекомендации для его возврата, если вероятность составляет больше 45%.\"\"\"\n",
    "        messages.append(HumanMessage(content=prompt))\n",
    "        res = chat(messages)\n",
    "        messages.append(res)\n",
    "        return res.content\n",
    "        ...\n",
    "    \n",
    "    def research_oblasts(self, id:str) -> str:\n",
    "        for i in self.oblast_list:\n",
    "            filtred = i[i[\"ID\"] == id][[\"ID\",\n",
    "                                        \"Размер компании.Наименование\", \n",
    "                                        \"Карточка клиента (внешний источник).Индекс платежной дисциплины Описание\", \n",
    "                                        \"Карточка клиента (внешний источник).Индекс финансового риска Описание\", \n",
    "                                        \"Госконтракты.Тип контракта\"]]\n",
    "            if len(filtred.values.tolist()) >=1:\n",
    "                break\n",
    "            else:\n",
    "                pass\n",
    "        \n",
    "        all_data = filtred.values.T.tolist()\n",
    "        # print(all_data[0], all_data[1])\n",
    "        all_data = [list(set(sublist)) for sublist in all_data]\n",
    "        # print(all_data[0], all_data[1])\n",
    "        \n",
    "        final = \"Этот клиент - \" +   str(all_data[1]) + \" C \" + str(all_data[2]) + \" С индексом финального риска: \" + str(all_data[3]) + \" И в гос контрактах он является: \" + str(all_data[4])\n",
    "        # print(final)\n",
    "        return filtred, final\n",
    "    \n",
    "    def seasons(self, id:str) ->  str:\n",
    "        \n",
    "        filtred = self.dataframe_transporting[self.dataframe_transporting[\"ID\"] == id]\n",
    "        years = filtred.columns.values.tolist()[5:]\n",
    "        month = filtred[years].values.T.tolist()\n",
    "        month_normal = years[0::2]\n",
    "        month_in_numbers =  [[sum(subarray)] for subarray in month]\n",
    "        month_in_tons = month_in_numbers[1::2]\n",
    "        month_in_money = month_in_numbers[0::2]\n",
    "        text = \"\"\n",
    "        for i in range(len(month_normal)):\n",
    "            text += f\"Клиент в год, месяц - {month_normal[i]} перевёз {month_in_tons[i]} тон груза  на сумму: {month_in_money[i]}\\n\"\n",
    "            \n",
    "        # print(text)\n",
    "        \n",
    "        return filtred, text\n",
    "\n",
    "    def research_directions(self, id:str):\n",
    "        \n",
    "        filtred=self.dataframe_transporting[self.dataframe_transporting['ID']==id]\n",
    "        all_data2 = filtred.values.T.tolist()\n",
    "        all_data1 = [x for x in all_data2 if x != []]\n",
    "        empty_list = []\n",
    "        text=\"\"\n",
    "        sum=0\n",
    "        len_data = len(all_data1)\n",
    "        print(len_data)\n",
    "        print(all_data1)\n",
    "        try:\n",
    "            for i in range(len(all_data[3])):\n",
    "\n",
    "                text+=\"| Этот клиент везет из - \" + all_data[1][i] + \" в - \" + all_data[2][i] + \"| Код товара - \" + str(all_data[3][i])+\"| Категория груза - \"+all_data[4][i]+\"|\\n\"\n",
    "                \n",
    "            print (text)\n",
    "        except Exception:\n",
    "            text += \"Грузоперевозок не было найдено\"\n",
    "        \n",
    "        \n",
    "        years = filtred.columns.values.tolist()[5:]\n",
    "        month = filtred[years].values.T.tolist()\n",
    "        \n",
    "        for i in month[-9:]:\n",
    "            \n",
    "            for j in i:\n",
    "                \n",
    "                sum+=j\n",
    "                \n",
    "        \n",
    "        \n",
    "        # print(years,month)\n",
    "        \n",
    "        \n",
    "        return all_data, text,sum\n",
    "\n",
    "    def research_interesting(self, id:str) -> str:\n",
    "        filtred = self.dataframe_interesting[self.dataframe_interesting[\"ID\"] == id][[\"Состояние\", \"Канал первичного интереса\"]]\n",
    "\n",
    "        all_data = filtred.values.T.tolist()\n",
    "        all_data = [list(set(sublist)) for sublist in all_data]\n",
    "\n",
    "        string = \"\"\n",
    "        ls = []\n",
    "\n",
    "        for i in filtred.values:\n",
    "            string += str(i[0]) + \" \" + str(i[1]) + \", \"\n",
    "\n",
    "        for i in all_data[0]:\n",
    "            for j in all_data[1]:\n",
    "                if string.count(f\"{i} {j}\") != 0:\n",
    "                    ls.append([str(i) + \" \" + str(j), string.count(f\"{i} {j}\")])\n",
    "\n",
    "        for i in ls:\n",
    "            string += i[0] + \" \" + str(i[1]) + \"\\n\"\n",
    "\n",
    "        return string\n",
    "    \n",
    "\n",
    "    def research_obrash(self, id:str) -> str:\n",
    "        filtred = self.dataframe_waitings[self.dataframe_waitings[\"ID\"] == id][[\"Тема вопроса\"]]\n",
    "\n",
    "        all_data = filtred.values.T.tolist()\n",
    "        try:\n",
    "            \n",
    "            string = \"\"\n",
    "            for i in all_data:\n",
    "                string += i[0] + \"\\n\"\n",
    "\n",
    "            # print(string)\n",
    "        except:\n",
    "            string = \"Обращений не обнаружено\"\n",
    "        \n",
    "        return string"
   ]
  },
  {
   "cell_type": "code",
   "execution_count": 122,
   "metadata": {},
   "outputs": [],
   "source": [
    "agent = ML_AGEENT()"
   ]
  },
  {
   "cell_type": "code",
   "execution_count": 123,
   "metadata": {},
   "outputs": [
    {
     "name": "stdout",
     "output_type": "stream",
     "text": [
      "0\n",
      "[]\n"
     ]
    },
    {
     "name": "stderr",
     "output_type": "stream",
     "text": [
      "C:\\Users\\Admin\\AppData\\Local\\Temp\\ipykernel_27216\\2062225374.py:45: LangChainDeprecationWarning: The method `BaseChatModel.__call__` was deprecated in langchain-core 0.1.7 and will be removed in 1.0. Use :meth:`~invoke` instead.\n",
      "  res = chat(messages)\n"
     ]
    },
    {
     "data": {
      "text/plain": [
       "\"На основе предоставленных данных, вероятность ухода данного клиента составляет 100%, так как ключевое число '0' указывает на отсутствие каких-либо перевозок со стороны клиента. Это приводит к отсутствию доходов от этого клиента для компании.\\n\\nРекомендации по возвращению данного клиента могут включать следующие шаги:\\n\\n1. Проведение анализа рынка и конкурентов для определения возможных причин отказа от услуг компании.\\n2. Разработка персонализированных предложений и скидок для возобновления интереса клиента.\\n3. Организация встреч и переговоров с целью обсуждения возможностей сотрудничества и поиска решений проблем, которые могли привести к уходу клиента.\\n4. Использование программ лояльности и бонусов для стимулирования повторного обращения клиента.\\n5. Оценка качества предоставляемых услуг и возможная оптимизация процессов для улучшения клиентского опыта.\\n\\nВажно также учитывать, что возвращение клиента может потребовать значительных усилий и ресурсов, поэтому решение о возвращении должно быть принято на основании тщательного анализа всех факторов.\""
      ]
     },
     "execution_count": 123,
     "metadata": {},
     "output_type": "execute_result"
    }
   ],
   "source": [
    "agent.research(id) \n"
   ]
  },
  {
   "cell_type": "code",
   "execution_count": null,
   "metadata": {},
   "outputs": [],
   "source": []
  }
 ],
 "metadata": {
  "kernelspec": {
   "display_name": "Python 3",
   "language": "python",
   "name": "python3"
  },
  "language_info": {
   "codemirror_mode": {
    "name": "ipython",
    "version": 3
   },
   "file_extension": ".py",
   "mimetype": "text/x-python",
   "name": "python",
   "nbconvert_exporter": "python",
   "pygments_lexer": "ipython3",
   "version": "3.11.0"
  }
 },
 "nbformat": 4,
 "nbformat_minor": 2
}
